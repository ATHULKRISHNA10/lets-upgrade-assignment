{
 "cells": [
  {
   "cell_type": "code",
   "execution_count": 3,
   "metadata": {},
   "outputs": [
    {
     "name": "stdout",
     "output_type": "stream",
     "text": [
      "Enter the value of x2\n",
      "Enter the value of y3\n",
      "8\n"
     ]
    }
   ],
   "source": [
    "#program to take two inputs x and y and return x power y\n",
    "x=int(input(\"Enter the value of x\"))\n",
    "y=int(input(\"Enter the value of y\"))\n",
    "print(x**y)"
   ]
  },
  {
   "cell_type": "code",
   "execution_count": 6,
   "metadata": {},
   "outputs": [],
   "source": [
    "#a string input and print the number of occurrences of each character. e.g: If string is \"hello\" then output should be h - 1, e - 1, l - 2, o - 1.\n",
    "\n",
    "def occurrences(str1):\n",
    "    dict = {}\n",
    "    for n in str1:\n",
    "        keys = dict.keys()\n",
    "        if n in keys:\n",
    "            dict[n] += 1\n",
    "        else:\n",
    "            dict[n] = 1\n",
    "    return dict"
   ]
  },
  {
   "cell_type": "code",
   "execution_count": 9,
   "metadata": {},
   "outputs": [
    {
     "data": {
      "text/plain": [
       "{'h': 1, 'e': 1, 'l': 2, 'o': 1}"
      ]
     },
     "execution_count": 9,
     "metadata": {},
     "output_type": "execute_result"
    }
   ],
   "source": [
    "a=\"hello this is python\"\n",
    "occurrences(\"hello\")"
   ]
  },
  {
   "cell_type": "code",
   "execution_count": 7,
   "metadata": {},
   "outputs": [
    {
     "data": {
      "text/plain": [
       "{'h': 3,\n",
       " 'e': 1,\n",
       " 'l': 2,\n",
       " 'o': 2,\n",
       " ' ': 3,\n",
       " 't': 2,\n",
       " 'i': 2,\n",
       " 's': 2,\n",
       " 'p': 1,\n",
       " 'y': 1,\n",
       " 'n': 1}"
      ]
     },
     "execution_count": 7,
     "metadata": {},
     "output_type": "execute_result"
    }
   ],
   "source": [
    "occurrences(a)"
   ]
  },
  {
   "cell_type": "code",
   "execution_count": 14,
   "metadata": {},
   "outputs": [
    {
     "name": "stdout",
     "output_type": "stream",
     "text": [
      "h 3\n",
      "e 1\n",
      "l 2\n",
      "l 2\n",
      "o 2\n",
      "  3\n",
      "t 2\n",
      "h 3\n",
      "i 2\n",
      "s 2\n",
      "  3\n",
      "i 2\n",
      "s 2\n",
      "  3\n",
      "p 1\n",
      "y 1\n",
      "t 2\n",
      "h 3\n",
      "o 2\n",
      "n 1\n"
     ]
    }
   ],
   "source": [
    "for n in a:\n",
    "    if n in a:\n",
    "        print(n,a.count(n))"
   ]
  },
  {
   "cell_type": "code",
   "execution_count": null,
   "metadata": {},
   "outputs": [],
   "source": []
  }
 ],
 "metadata": {
  "kernelspec": {
   "display_name": "Python 3",
   "language": "python",
   "name": "python3"
  },
  "language_info": {
   "codemirror_mode": {
    "name": "ipython",
    "version": 3
   },
   "file_extension": ".py",
   "mimetype": "text/x-python",
   "name": "python",
   "nbconvert_exporter": "python",
   "pygments_lexer": "ipython3",
   "version": "3.8.5"
  }
 },
 "nbformat": 4,
 "nbformat_minor": 4
}
